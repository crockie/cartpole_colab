{
  "nbformat": 4,
  "nbformat_minor": 0,
  "metadata": {
    "colab": {
      "provenance": [],
      "include_colab_link": true
    },
    "kernelspec": {
      "name": "python3",
      "display_name": "Python 3"
    },
    "language_info": {
      "name": "python"
    }
  },
  "cells": [
    {
      "cell_type": "markdown",
      "metadata": {
        "id": "view-in-github",
        "colab_type": "text"
      },
      "source": [
        "<a href=\"https://colab.research.google.com/github/crockie/cartpole_colab/blob/main/cartpole.ipynb\" target=\"_parent\"><img src=\"https://colab.research.google.com/assets/colab-badge.svg\" alt=\"Open In Colab\"/></a>"
      ]
    },
    {
      "cell_type": "markdown",
      "source": [
        "# Tutorial and Sample Code for Balancing a Pole on a Cart"
      ],
      "metadata": {
        "id": "ZauhjPSfX7pI"
      }
    },
    {
      "cell_type": "markdown",
      "source": [
        "## Installing dependencies:"
      ],
      "metadata": {
        "id": "UBiYOoesYMvr"
      }
    },
    {
      "cell_type": "code",
      "execution_count": 1,
      "metadata": {
        "colab": {
          "base_uri": "https://localhost:8080/"
        },
        "id": "PbgnVwZmX5uW",
        "outputId": "3871c34e-f250-4300-b9f6-3170c368f6d0"
      },
      "outputs": [
        {
          "output_type": "stream",
          "name": "stdout",
          "text": [
            "Looking in indexes: https://pypi.org/simple, https://us-python.pkg.dev/colab-wheels/public/simple/\n",
            "Requirement already satisfied: gym[classic_control] in /usr/local/lib/python3.8/dist-packages (0.25.2)\n",
            "Requirement already satisfied: gym-notices>=0.0.4 in /usr/local/lib/python3.8/dist-packages (from gym[classic_control]) (0.0.8)\n",
            "Requirement already satisfied: numpy>=1.18.0 in /usr/local/lib/python3.8/dist-packages (from gym[classic_control]) (1.21.6)\n",
            "Requirement already satisfied: cloudpickle>=1.2.0 in /usr/local/lib/python3.8/dist-packages (from gym[classic_control]) (2.2.1)\n",
            "Requirement already satisfied: importlib-metadata>=4.8.0 in /usr/local/lib/python3.8/dist-packages (from gym[classic_control]) (6.0.0)\n",
            "Collecting pygame==2.1.0\n",
            "  Downloading pygame-2.1.0-cp38-cp38-manylinux_2_17_x86_64.manylinux2014_x86_64.whl (18.3 MB)\n",
            "\u001b[2K     \u001b[90m━━━━━━━━━━━━━━━━━━━━━━━━━━━━━━━━━━━━━━━━\u001b[0m \u001b[32m18.3/18.3 MB\u001b[0m \u001b[31m67.4 MB/s\u001b[0m eta \u001b[36m0:00:00\u001b[0m\n",
            "\u001b[?25hRequirement already satisfied: zipp>=0.5 in /usr/local/lib/python3.8/dist-packages (from importlib-metadata>=4.8.0->gym[classic_control]) (3.12.1)\n",
            "Installing collected packages: pygame\n",
            "Successfully installed pygame-2.1.0\n",
            "Looking in indexes: https://pypi.org/simple, https://us-python.pkg.dev/colab-wheels/public/simple/\n",
            "Requirement already satisfied: setuptools in /usr/local/lib/python3.8/dist-packages (57.4.0)\n",
            "Collecting setuptools\n",
            "  Downloading setuptools-67.3.2-py3-none-any.whl (1.1 MB)\n",
            "\u001b[2K     \u001b[90m━━━━━━━━━━━━━━━━━━━━━━━━━━━━━━━━━━━━━━━━\u001b[0m \u001b[32m1.1/1.1 MB\u001b[0m \u001b[31m22.4 MB/s\u001b[0m eta \u001b[36m0:00:00\u001b[0m\n",
            "\u001b[?25hInstalling collected packages: setuptools\n",
            "  Attempting uninstall: setuptools\n",
            "    Found existing installation: setuptools 57.4.0\n",
            "    Uninstalling setuptools-57.4.0:\n",
            "      Successfully uninstalled setuptools-57.4.0\n",
            "\u001b[31mERROR: pip's dependency resolver does not currently take into account all the packages that are installed. This behaviour is the source of the following dependency conflicts.\n",
            "ipython 7.9.0 requires jedi>=0.10, which is not installed.\n",
            "cvxpy 1.2.3 requires setuptools<=64.0.2, but you have setuptools 67.3.2 which is incompatible.\u001b[0m\u001b[31m\n",
            "\u001b[0mSuccessfully installed setuptools-67.3.2\n"
          ]
        }
      ],
      "source": [
        "!apt-get install -y xvfb python-opengl > /dev/null 2>&1\n",
        "!pip install gym pyvirtualdisplay > /dev/null 2>&1\n",
        "!pip install gym pyvirtualdisplay > /dev/null 2>&1\n",
        "!apt-get install -y xvfb python-opengl ffmpeg > /dev/null 2>&1\n",
        "!pip install gym[classic_control]\n",
        "!apt-get update > /dev/null 2>&1\n",
        "!apt-get install cmake > /dev/null 2>&1\n",
        "!pip install --upgrade setuptools 2>&1\n",
        "!pip install ez_setup > /dev/null 2>&1"
      ]
    },
    {
      "cell_type": "markdown",
      "source": [
        "## Importing dependencies and define helper functions"
      ],
      "metadata": {
        "id": "RwKbYeTgbaTA"
      }
    },
    {
      "cell_type": "code",
      "source": [
        "import gym\n",
        "from gym import logger as gymlogger\n",
        "from gym.wrappers import RecordVideo\n",
        "gymlogger.set_level(40) #error only\n",
        "import tensorflow as tf\n",
        "import numpy as np\n",
        "import random\n",
        "import matplotlib\n",
        "import matplotlib.pyplot as plt\n",
        "%matplotlib inline\n",
        "import math\n",
        "import glob\n",
        "import io\n",
        "import base64\n",
        "from IPython.display import HTML\n",
        "from IPython import display as ipythondisplay\n",
        "\n",
        "def show_video():\n",
        "  mp4list = glob.glob('video/*.mp4')\n",
        "  if len(mp4list) > 0:\n",
        "    mp4 = mp4list[0]\n",
        "    video = io.open(mp4, 'r+b').read()\n",
        "    encoded = base64.b64encode(video)\n",
        "    ipythondisplay.display(HTML(data='''<video alt=\"test\" autoplay \n",
        "                loop controls style=\"height: 400px;\">\n",
        "                <source src=\"data:video/mp4;base64,{0}\" type=\"video/mp4\" />\n",
        "             </video>'''.format(encoded.decode('ascii'))))\n",
        "  else: \n",
        "    print(\"Could not find video\")"
      ],
      "metadata": {
        "id": "j6KpgCLGYWmj"
      },
      "execution_count": 2,
      "outputs": []
    },
    {
      "cell_type": "markdown",
      "source": [
        "## Tutorial: Loading CartPole environment"
      ],
      "metadata": {
        "id": "ehbqP9CXbmo7"
      }
    },
    {
      "cell_type": "code",
      "source": [
        "env = gym.make(\"CartPole-v1\")"
      ],
      "metadata": {
        "id": "Go12dH4qbwBy"
      },
      "execution_count": 3,
      "outputs": []
    },
    {
      "cell_type": "markdown",
      "source": [
        "We can check the action and observation space of this environment. Discrete(2) means that there are two valid discrete actions: 0 & 1."
      ],
      "metadata": {
        "id": "9XZ9g3xrcAXE"
      }
    },
    {
      "cell_type": "code",
      "source": [
        "print(env.action_space)"
      ],
      "metadata": {
        "colab": {
          "base_uri": "https://localhost:8080/"
        },
        "id": "ytxvVmLdcRyw",
        "outputId": "b898d506-a793-412b-c60e-9b56f574e5ef"
      },
      "execution_count": 4,
      "outputs": [
        {
          "output_type": "stream",
          "name": "stdout",
          "text": [
            "Discrete(2)\n"
          ]
        }
      ]
    },
    {
      "cell_type": "markdown",
      "source": [
        "The observation space is given below. The first two arrays define the min and max values of the 4 observed values, corresponding to cart position, velocity and pole angle, angular velocity."
      ],
      "metadata": {
        "id": "pVXGWi_Ncfg-"
      }
    },
    {
      "cell_type": "code",
      "source": [
        "print(env.observation_space)"
      ],
      "metadata": {
        "colab": {
          "base_uri": "https://localhost:8080/"
        },
        "id": "DyqHr9I5cdkX",
        "outputId": "fbf7f2c0-6513-4949-b920-435495845931"
      },
      "execution_count": 5,
      "outputs": [
        {
          "output_type": "stream",
          "name": "stdout",
          "text": [
            "Box([-4.8000002e+00 -3.4028235e+38 -4.1887903e-01 -3.4028235e+38], [4.8000002e+00 3.4028235e+38 4.1887903e-01 3.4028235e+38], (4,), float32)\n"
          ]
        }
      ]
    },
    {
      "cell_type": "markdown",
      "source": [
        "We call each round of the pole-balancing game an \"episode\". At the start of each episode, make sure the environment is reset, which chooses a random initial state, e.g., pole slightly tilted to the right. This initialization can be achieved by the code below, which returns the observation of the initial state."
      ],
      "metadata": {
        "id": "HFOdaU2Gdyg0"
      }
    },
    {
      "cell_type": "code",
      "source": [
        "observation = env.reset()\n",
        "print(\"Initial observations:\", observation)"
      ],
      "metadata": {
        "colab": {
          "base_uri": "https://localhost:8080/"
        },
        "id": "VMr6qAqxdOsm",
        "outputId": "29bcf61b-396f-4383-b805-2e7f177197d2"
      },
      "execution_count": 14,
      "outputs": [
        {
          "output_type": "stream",
          "name": "stdout",
          "text": [
            "Initial observations: [-0.01809703 -0.03072071  0.04176382 -0.00460064]\n"
          ]
        }
      ]
    },
    {
      "cell_type": "markdown",
      "source": [
        "For the CartPole environment, there are two possible actions: 0 for pushing to the left and 1 for pushing to the right. For example, we can push the cart to the left using code below, which returns the new observation, the current reward, an indicator of whether the game ends, and some additional information (not used in this project). For CartPole, the game ends when the pole is significantly tilted or you manage to balance the pole for 500 steps. You get exactly 1 reward for each step before the game ends (i.e., max cumulative reward is 500)."
      ],
      "metadata": {
        "id": "qnG2QdfbeZrI"
      }
    },
    {
      "cell_type": "code",
      "source": [
        "observation, reward, done, info = env.step(0)\n",
        "print(\"New observations after choosing action 0:\", observation)\n",
        "print(\"Reward for this step:\", reward)\n",
        "print(\"Is this round done?\", done)"
      ],
      "metadata": {
        "colab": {
          "base_uri": "https://localhost:8080/"
        },
        "id": "MmfMDvyYdWGk",
        "outputId": "fcf586ca-c4a2-4dde-91b8-6e4968eae5ae"
      },
      "execution_count": 15,
      "outputs": [
        {
          "output_type": "stream",
          "name": "stdout",
          "text": [
            "New observations after choosing action 0: [-0.01871145 -0.22641596  0.04167181  0.30096126]\n",
            "Reward for this step: 1.0\n",
            "Is this round done? False\n"
          ]
        }
      ]
    },
    {
      "cell_type": "markdown",
      "source": [
        "Now we can play a full round of the game using a naive strategy (always choosing action 0), and show the cumulative reward in the round. Note that reward returned by env.step(*) corresponds to the reward for current step. So we have to accumulate the reward for each step. Clearly, the naive strategy performs poorly by surviving only a dozen of steps."
      ],
      "metadata": {
        "id": "tj0zCh59fhBb"
      }
    },
    {
      "cell_type": "code",
      "source": [
        "observation = env.reset()\n",
        "cumulative_reward = 0\n",
        "done = False\n",
        "while not done:\n",
        "    observation, reward, done, info = env.step(0)\n",
        "    cumulative_reward += reward\n",
        "print(\"Cumulative reward for this round:\", cumulative_reward)"
      ],
      "metadata": {
        "colab": {
          "base_uri": "https://localhost:8080/"
        },
        "id": "AVucQVRwf6Jm",
        "outputId": "f5c81fa4-bdb7-4653-9faa-b745e0f3d04c"
      },
      "execution_count": 16,
      "outputs": [
        {
          "output_type": "stream",
          "name": "stdout",
          "text": [
            "Cumulative reward for this round: 10.0\n"
          ]
        }
      ]
    },
    {
      "cell_type": "markdown",
      "source": [
        "## Task 1: Development of an RL agent"
      ],
      "metadata": {
        "id": "2oIzK9SzhlWN"
      }
    },
    {
      "cell_type": "markdown",
      "source": [
        "An example of a naive agent is given below, which randomly chooses an action regardless of the observation:"
      ],
      "metadata": {
        "id": "Cc6_e5c_huiq"
      }
    },
    {
      "cell_type": "code",
      "source": [
        "def rand_policy_agent(observation):\n",
        "    return random.randint(0, 1)"
      ],
      "metadata": {
        "id": "Hk-M4QEfh6l5"
      },
      "execution_count": 17,
      "outputs": []
    },
    {
      "cell_type": "code",
      "source": [
        "def Qtable(state_space, action_space, bin_size = 30):\n",
        "  "
      ],
      "metadata": {
        "id": "lfTExWajU5zd"
      },
      "execution_count": null,
      "outputs": []
    },
    {
      "cell_type": "markdown",
      "source": [
        "For Task 1, we can show the observation and chosen action below:"
      ],
      "metadata": {
        "id": "RAi7KKwNiegR"
      }
    },
    {
      "cell_type": "code",
      "source": [
        "observation = env.reset()\n",
        "action = rand_policy_agent(observation)\n",
        "print(\"Observation:\", observation)\n",
        "print(\"Chosen action:\", action)"
      ],
      "metadata": {
        "colab": {
          "base_uri": "https://localhost:8080/"
        },
        "id": "ae2ia-vUiNKJ",
        "outputId": "72684f1f-0ae2-4026-e76e-a0378243403f"
      },
      "execution_count": 18,
      "outputs": [
        {
          "output_type": "stream",
          "name": "stdout",
          "text": [
            "Observation: [-0.04415939 -0.00275528  0.03128428 -0.01358509]\n",
            "Chosen action: 0\n"
          ]
        }
      ]
    },
    {
      "cell_type": "markdown",
      "source": [
        "## Task 2: Demonstrate the effectiveness of the RL agent"
      ],
      "metadata": {
        "id": "-XtIQ0Rti1gm"
      }
    },
    {
      "cell_type": "markdown",
      "source": [
        "For this task, use the agent developed in Task 1 to play the game for 100 episodes (refer to tutorial for how to play a round), record the cumulative reward for each round, and plot the reward for each round. A sample plotting code is given below. Note that you must include code to play for 100 episodes and use the code to obtain round_results for plotting. DO NOT record the round results in advance and paste the results to the notebook."
      ],
      "metadata": {
        "id": "djBEShf0kGI4"
      }
    },
    {
      "cell_type": "code",
      "source": [
        "episode_results = np.random.randint(150, 250, size=100)\n",
        "plt.plot(episode_results)\n",
        "plt.title('Cumulative reward for each episode')\n",
        "plt.ylabel('Cumulative reward')\n",
        "plt.xlabel('episode')\n",
        "plt.show()"
      ],
      "metadata": {
        "colab": {
          "base_uri": "https://localhost:8080/",
          "height": 295
        },
        "id": "RZrCKywQi6CE",
        "outputId": "014b6e89-1d7c-4de0-b669-9941e9bcea4c"
      },
      "execution_count": 11,
      "outputs": [
        {
          "output_type": "display_data",
          "data": {
            "text/plain": [
              "<Figure size 432x288 with 1 Axes>"
            ],
            "image/png": "[encoded data removed]"
          },
          "metadata": {
            "needs_background": "light"
          }
        }
      ]
    },
    {
      "cell_type": "markdown",
      "source": [
        "Print the average reward over the 100 episodes."
      ],
      "metadata": {
        "id": "XndSYH7wlvn7"
      }
    },
    {
      "cell_type": "code",
      "source": [
        "print(\"Average cumulative reward:\", episode_results.mean())\n",
        "print(\"Is my agent good enough?\", episode_results.mean() > 195)"
      ],
      "metadata": {
        "colab": {
          "base_uri": "https://localhost:8080/"
        },
        "id": "pOiOp9OYlo5Y",
        "outputId": "7c66989f-c770-47b6-9c59-fa32d218340f"
      },
      "execution_count": 12,
      "outputs": [
        {
          "output_type": "stream",
          "name": "stdout",
          "text": [
            "Average cumulative reward: 202.55\n",
            "Is my agent good enough? True\n"
          ]
        }
      ]
    },
    {
      "cell_type": "markdown",
      "source": [
        "## Task 3: Render one episode played by the agent"
      ],
      "metadata": {
        "id": "Yg0DCT38lFA6"
      }
    },
    {
      "cell_type": "markdown",
      "source": [
        "Plug your agent to the code below to obtain rendered result."
      ],
      "metadata": {
        "id": "vx1awMr9lc_w"
      }
    },
    {
      "cell_type": "code",
      "source": [
        "env = RecordVideo(gym.make(\"CartPole-v1\"), \"./video\")\n",
        "observation = env.reset()\n",
        "while True:\n",
        "    env.render()\n",
        "    #your agent goes here\n",
        "    action = rand_policy_agent(observation)\n",
        "    observation, reward, done, info = env.step(action) \n",
        "    if done: \n",
        "      break;    \n",
        "env.close()\n",
        "show_video()"
      ],
      "metadata": {
        "colab": {
          "base_uri": "https://localhost:8080/",
          "height": 421
        },
        "id": "LYyavfbIa47D",
        "outputId": "870b5966-423e-4604-d0e1-a2a3dffd76fa"
      },
      "execution_count": 13,
      "outputs": [
        {
          "output_type": "display_data",
          "data": {
            "text/plain": [
              "<IPython.core.display.HTML object>"
            ],
            "text/html": [
              "<video alt=\"test\" autoplay \n",
              "                loop controls style=\"height: 400px;\">\n",
              "                <source src=\"data:video/mp4;base64,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\" type=\"video/mp4\" />\n",
              "             </video>"
            ]
          },
          "metadata": {}
        }
      ]
    }
  ]
}